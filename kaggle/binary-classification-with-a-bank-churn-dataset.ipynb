{
 "cells": [
  {
   "cell_type": "code",
   "execution_count": 1,
   "id": "3d20c395",
   "metadata": {
    "_cell_guid": "b1076dfc-b9ad-4769-8c92-a6c4dae69d19",
    "_uuid": "8f2839f25d086af736a60e9eeb907d3b93b6e0e5",
    "execution": {
     "iopub.execute_input": "2024-01-12T23:58:16.629454Z",
     "iopub.status.busy": "2024-01-12T23:58:16.629133Z",
     "iopub.status.idle": "2024-01-12T23:58:16.896292Z",
     "shell.execute_reply": "2024-01-12T23:58:16.895140Z"
    },
    "papermill": {
     "duration": 0.274784,
     "end_time": "2024-01-12T23:58:16.898024",
     "exception": false,
     "start_time": "2024-01-12T23:58:16.623240",
     "status": "completed"
    },
    "tags": []
   },
   "outputs": [
    {
     "name": "stdout",
     "output_type": "stream",
     "text": [
      "/kaggle/input/playground-series-s4e1/sample_submission.csv\n",
      "/kaggle/input/playground-series-s4e1/train.csv\n",
      "/kaggle/input/playground-series-s4e1/test.csv\n"
     ]
    }
   ],
   "source": [
    "# This Python 3 environment comes with many helpful analytics libraries installed\n",
    "# It is defined by the kaggle/python Docker image: https://github.com/kaggle/docker-python\n",
    "# For example, here's several helpful packages to load\n",
    "\n",
    "import numpy as np # linear algebra\n",
    "import pandas as pd # data processing, CSV file I/O (e.g. pd.read_csv)\n",
    "\n",
    "# Input data files are available in the read-only \"../input/\" directory\n",
    "# For example, running this (by clicking run or pressing Shift+Enter) will list all files under the input directory\n",
    "\n",
    "import os\n",
    "for dirname, _, filenames in os.walk('/kaggle/input'):\n",
    "    for filename in filenames:\n",
    "        print(os.path.join(dirname, filename))\n",
    "\n",
    "# You can write up to 20GB to the current directory (/kaggle/working/) that gets preserved as output when you create a version using \"Save & Run All\" \n",
    "# You can also write temporary files to /kaggle/temp/, but they won't be saved outside of the current session"
   ]
  },
  {
   "cell_type": "code",
   "execution_count": 2,
   "id": "3e1f1efa",
   "metadata": {
    "execution": {
     "iopub.execute_input": "2024-01-12T23:58:16.908563Z",
     "iopub.status.busy": "2024-01-12T23:58:16.908025Z",
     "iopub.status.idle": "2024-01-12T23:58:17.265644Z",
     "shell.execute_reply": "2024-01-12T23:58:17.264758Z"
    },
    "papermill": {
     "duration": 0.3655,
     "end_time": "2024-01-12T23:58:17.268123",
     "exception": false,
     "start_time": "2024-01-12T23:58:16.902623",
     "status": "completed"
    },
    "tags": []
   },
   "outputs": [],
   "source": [
    "df = pd.read_csv(\"/kaggle/input/playground-series-s4e1/train.csv\")"
   ]
  },
  {
   "cell_type": "code",
   "execution_count": 3,
   "id": "2c66c659",
   "metadata": {
    "execution": {
     "iopub.execute_input": "2024-01-12T23:58:17.280484Z",
     "iopub.status.busy": "2024-01-12T23:58:17.280177Z",
     "iopub.status.idle": "2024-01-12T23:58:17.303980Z",
     "shell.execute_reply": "2024-01-12T23:58:17.303440Z"
    },
    "papermill": {
     "duration": 0.032789,
     "end_time": "2024-01-12T23:58:17.305749",
     "exception": false,
     "start_time": "2024-01-12T23:58:17.272960",
     "status": "completed"
    },
    "tags": []
   },
   "outputs": [
    {
     "data": {
      "text/html": [
       "<div>\n",
       "<style scoped>\n",
       "    .dataframe tbody tr th:only-of-type {\n",
       "        vertical-align: middle;\n",
       "    }\n",
       "\n",
       "    .dataframe tbody tr th {\n",
       "        vertical-align: top;\n",
       "    }\n",
       "\n",
       "    .dataframe thead th {\n",
       "        text-align: right;\n",
       "    }\n",
       "</style>\n",
       "<table border=\"1\" class=\"dataframe\">\n",
       "  <thead>\n",
       "    <tr style=\"text-align: right;\">\n",
       "      <th></th>\n",
       "      <th>id</th>\n",
       "      <th>CustomerId</th>\n",
       "      <th>Surname</th>\n",
       "      <th>CreditScore</th>\n",
       "      <th>Geography</th>\n",
       "      <th>Gender</th>\n",
       "      <th>Age</th>\n",
       "      <th>Tenure</th>\n",
       "      <th>Balance</th>\n",
       "      <th>NumOfProducts</th>\n",
       "      <th>HasCrCard</th>\n",
       "      <th>IsActiveMember</th>\n",
       "      <th>EstimatedSalary</th>\n",
       "      <th>Exited</th>\n",
       "    </tr>\n",
       "  </thead>\n",
       "  <tbody>\n",
       "    <tr>\n",
       "      <th>0</th>\n",
       "      <td>0</td>\n",
       "      <td>15674932</td>\n",
       "      <td>Okwudilichukwu</td>\n",
       "      <td>668</td>\n",
       "      <td>France</td>\n",
       "      <td>Male</td>\n",
       "      <td>33.0</td>\n",
       "      <td>3</td>\n",
       "      <td>0.00</td>\n",
       "      <td>2</td>\n",
       "      <td>1.0</td>\n",
       "      <td>0.0</td>\n",
       "      <td>181449.97</td>\n",
       "      <td>0</td>\n",
       "    </tr>\n",
       "    <tr>\n",
       "      <th>1</th>\n",
       "      <td>1</td>\n",
       "      <td>15749177</td>\n",
       "      <td>Okwudiliolisa</td>\n",
       "      <td>627</td>\n",
       "      <td>France</td>\n",
       "      <td>Male</td>\n",
       "      <td>33.0</td>\n",
       "      <td>1</td>\n",
       "      <td>0.00</td>\n",
       "      <td>2</td>\n",
       "      <td>1.0</td>\n",
       "      <td>1.0</td>\n",
       "      <td>49503.50</td>\n",
       "      <td>0</td>\n",
       "    </tr>\n",
       "    <tr>\n",
       "      <th>2</th>\n",
       "      <td>2</td>\n",
       "      <td>15694510</td>\n",
       "      <td>Hsueh</td>\n",
       "      <td>678</td>\n",
       "      <td>France</td>\n",
       "      <td>Male</td>\n",
       "      <td>40.0</td>\n",
       "      <td>10</td>\n",
       "      <td>0.00</td>\n",
       "      <td>2</td>\n",
       "      <td>1.0</td>\n",
       "      <td>0.0</td>\n",
       "      <td>184866.69</td>\n",
       "      <td>0</td>\n",
       "    </tr>\n",
       "    <tr>\n",
       "      <th>3</th>\n",
       "      <td>3</td>\n",
       "      <td>15741417</td>\n",
       "      <td>Kao</td>\n",
       "      <td>581</td>\n",
       "      <td>France</td>\n",
       "      <td>Male</td>\n",
       "      <td>34.0</td>\n",
       "      <td>2</td>\n",
       "      <td>148882.54</td>\n",
       "      <td>1</td>\n",
       "      <td>1.0</td>\n",
       "      <td>1.0</td>\n",
       "      <td>84560.88</td>\n",
       "      <td>0</td>\n",
       "    </tr>\n",
       "    <tr>\n",
       "      <th>4</th>\n",
       "      <td>4</td>\n",
       "      <td>15766172</td>\n",
       "      <td>Chiemenam</td>\n",
       "      <td>716</td>\n",
       "      <td>Spain</td>\n",
       "      <td>Male</td>\n",
       "      <td>33.0</td>\n",
       "      <td>5</td>\n",
       "      <td>0.00</td>\n",
       "      <td>2</td>\n",
       "      <td>1.0</td>\n",
       "      <td>1.0</td>\n",
       "      <td>15068.83</td>\n",
       "      <td>0</td>\n",
       "    </tr>\n",
       "  </tbody>\n",
       "</table>\n",
       "</div>"
      ],
      "text/plain": [
       "   id  CustomerId         Surname  CreditScore Geography Gender   Age  Tenure  \\\n",
       "0   0    15674932  Okwudilichukwu          668    France   Male  33.0       3   \n",
       "1   1    15749177   Okwudiliolisa          627    France   Male  33.0       1   \n",
       "2   2    15694510           Hsueh          678    France   Male  40.0      10   \n",
       "3   3    15741417             Kao          581    France   Male  34.0       2   \n",
       "4   4    15766172       Chiemenam          716     Spain   Male  33.0       5   \n",
       "\n",
       "     Balance  NumOfProducts  HasCrCard  IsActiveMember  EstimatedSalary  \\\n",
       "0       0.00              2        1.0             0.0        181449.97   \n",
       "1       0.00              2        1.0             1.0         49503.50   \n",
       "2       0.00              2        1.0             0.0        184866.69   \n",
       "3  148882.54              1        1.0             1.0         84560.88   \n",
       "4       0.00              2        1.0             1.0         15068.83   \n",
       "\n",
       "   Exited  \n",
       "0       0  \n",
       "1       0  \n",
       "2       0  \n",
       "3       0  \n",
       "4       0  "
      ]
     },
     "execution_count": 3,
     "metadata": {},
     "output_type": "execute_result"
    }
   ],
   "source": [
    "df.head()"
   ]
  },
  {
   "cell_type": "code",
   "execution_count": 4,
   "id": "5d132c4c",
   "metadata": {
    "execution": {
     "iopub.execute_input": "2024-01-12T23:58:17.317929Z",
     "iopub.status.busy": "2024-01-12T23:58:17.317508Z",
     "iopub.status.idle": "2024-01-12T23:58:17.351269Z",
     "shell.execute_reply": "2024-01-12T23:58:17.350666Z"
    },
    "papermill": {
     "duration": 0.041768,
     "end_time": "2024-01-12T23:58:17.353128",
     "exception": false,
     "start_time": "2024-01-12T23:58:17.311360",
     "status": "completed"
    },
    "tags": []
   },
   "outputs": [],
   "source": [
    "\n",
    "\n",
    "df= pd.get_dummies(df,columns=[\"Gender\"])"
   ]
  },
  {
   "cell_type": "code",
   "execution_count": 5,
   "id": "5ccc2f84",
   "metadata": {
    "execution": {
     "iopub.execute_input": "2024-01-12T23:58:17.363609Z",
     "iopub.status.busy": "2024-01-12T23:58:17.363215Z",
     "iopub.status.idle": "2024-01-12T23:58:17.377956Z",
     "shell.execute_reply": "2024-01-12T23:58:17.377109Z"
    },
    "papermill": {
     "duration": 0.021904,
     "end_time": "2024-01-12T23:58:17.379769",
     "exception": false,
     "start_time": "2024-01-12T23:58:17.357865",
     "status": "completed"
    },
    "tags": []
   },
   "outputs": [
    {
     "data": {
      "text/html": [
       "<div>\n",
       "<style scoped>\n",
       "    .dataframe tbody tr th:only-of-type {\n",
       "        vertical-align: middle;\n",
       "    }\n",
       "\n",
       "    .dataframe tbody tr th {\n",
       "        vertical-align: top;\n",
       "    }\n",
       "\n",
       "    .dataframe thead th {\n",
       "        text-align: right;\n",
       "    }\n",
       "</style>\n",
       "<table border=\"1\" class=\"dataframe\">\n",
       "  <thead>\n",
       "    <tr style=\"text-align: right;\">\n",
       "      <th></th>\n",
       "      <th>id</th>\n",
       "      <th>CustomerId</th>\n",
       "      <th>Surname</th>\n",
       "      <th>CreditScore</th>\n",
       "      <th>Geography</th>\n",
       "      <th>Age</th>\n",
       "      <th>Tenure</th>\n",
       "      <th>Balance</th>\n",
       "      <th>NumOfProducts</th>\n",
       "      <th>HasCrCard</th>\n",
       "      <th>IsActiveMember</th>\n",
       "      <th>EstimatedSalary</th>\n",
       "      <th>Exited</th>\n",
       "      <th>Gender_Female</th>\n",
       "      <th>Gender_Male</th>\n",
       "    </tr>\n",
       "  </thead>\n",
       "  <tbody>\n",
       "    <tr>\n",
       "      <th>0</th>\n",
       "      <td>0</td>\n",
       "      <td>15674932</td>\n",
       "      <td>Okwudilichukwu</td>\n",
       "      <td>668</td>\n",
       "      <td>France</td>\n",
       "      <td>33.0</td>\n",
       "      <td>3</td>\n",
       "      <td>0.00</td>\n",
       "      <td>2</td>\n",
       "      <td>1.0</td>\n",
       "      <td>0.0</td>\n",
       "      <td>181449.97</td>\n",
       "      <td>0</td>\n",
       "      <td>False</td>\n",
       "      <td>True</td>\n",
       "    </tr>\n",
       "    <tr>\n",
       "      <th>1</th>\n",
       "      <td>1</td>\n",
       "      <td>15749177</td>\n",
       "      <td>Okwudiliolisa</td>\n",
       "      <td>627</td>\n",
       "      <td>France</td>\n",
       "      <td>33.0</td>\n",
       "      <td>1</td>\n",
       "      <td>0.00</td>\n",
       "      <td>2</td>\n",
       "      <td>1.0</td>\n",
       "      <td>1.0</td>\n",
       "      <td>49503.50</td>\n",
       "      <td>0</td>\n",
       "      <td>False</td>\n",
       "      <td>True</td>\n",
       "    </tr>\n",
       "    <tr>\n",
       "      <th>2</th>\n",
       "      <td>2</td>\n",
       "      <td>15694510</td>\n",
       "      <td>Hsueh</td>\n",
       "      <td>678</td>\n",
       "      <td>France</td>\n",
       "      <td>40.0</td>\n",
       "      <td>10</td>\n",
       "      <td>0.00</td>\n",
       "      <td>2</td>\n",
       "      <td>1.0</td>\n",
       "      <td>0.0</td>\n",
       "      <td>184866.69</td>\n",
       "      <td>0</td>\n",
       "      <td>False</td>\n",
       "      <td>True</td>\n",
       "    </tr>\n",
       "    <tr>\n",
       "      <th>3</th>\n",
       "      <td>3</td>\n",
       "      <td>15741417</td>\n",
       "      <td>Kao</td>\n",
       "      <td>581</td>\n",
       "      <td>France</td>\n",
       "      <td>34.0</td>\n",
       "      <td>2</td>\n",
       "      <td>148882.54</td>\n",
       "      <td>1</td>\n",
       "      <td>1.0</td>\n",
       "      <td>1.0</td>\n",
       "      <td>84560.88</td>\n",
       "      <td>0</td>\n",
       "      <td>False</td>\n",
       "      <td>True</td>\n",
       "    </tr>\n",
       "    <tr>\n",
       "      <th>4</th>\n",
       "      <td>4</td>\n",
       "      <td>15766172</td>\n",
       "      <td>Chiemenam</td>\n",
       "      <td>716</td>\n",
       "      <td>Spain</td>\n",
       "      <td>33.0</td>\n",
       "      <td>5</td>\n",
       "      <td>0.00</td>\n",
       "      <td>2</td>\n",
       "      <td>1.0</td>\n",
       "      <td>1.0</td>\n",
       "      <td>15068.83</td>\n",
       "      <td>0</td>\n",
       "      <td>False</td>\n",
       "      <td>True</td>\n",
       "    </tr>\n",
       "  </tbody>\n",
       "</table>\n",
       "</div>"
      ],
      "text/plain": [
       "   id  CustomerId         Surname  CreditScore Geography   Age  Tenure  \\\n",
       "0   0    15674932  Okwudilichukwu          668    France  33.0       3   \n",
       "1   1    15749177   Okwudiliolisa          627    France  33.0       1   \n",
       "2   2    15694510           Hsueh          678    France  40.0      10   \n",
       "3   3    15741417             Kao          581    France  34.0       2   \n",
       "4   4    15766172       Chiemenam          716     Spain  33.0       5   \n",
       "\n",
       "     Balance  NumOfProducts  HasCrCard  IsActiveMember  EstimatedSalary  \\\n",
       "0       0.00              2        1.0             0.0        181449.97   \n",
       "1       0.00              2        1.0             1.0         49503.50   \n",
       "2       0.00              2        1.0             0.0        184866.69   \n",
       "3  148882.54              1        1.0             1.0         84560.88   \n",
       "4       0.00              2        1.0             1.0         15068.83   \n",
       "\n",
       "   Exited  Gender_Female  Gender_Male  \n",
       "0       0          False         True  \n",
       "1       0          False         True  \n",
       "2       0          False         True  \n",
       "3       0          False         True  \n",
       "4       0          False         True  "
      ]
     },
     "execution_count": 5,
     "metadata": {},
     "output_type": "execute_result"
    }
   ],
   "source": [
    "df.head()"
   ]
  },
  {
   "cell_type": "code",
   "execution_count": 6,
   "id": "8ba31c71",
   "metadata": {
    "execution": {
     "iopub.execute_input": "2024-01-12T23:58:17.390225Z",
     "iopub.status.busy": "2024-01-12T23:58:17.389976Z",
     "iopub.status.idle": "2024-01-12T23:58:17.407214Z",
     "shell.execute_reply": "2024-01-12T23:58:17.406344Z"
    },
    "papermill": {
     "duration": 0.024296,
     "end_time": "2024-01-12T23:58:17.408754",
     "exception": false,
     "start_time": "2024-01-12T23:58:17.384458",
     "status": "completed"
    },
    "tags": []
   },
   "outputs": [
    {
     "data": {
      "text/plain": [
       "id                 0\n",
       "CustomerId         0\n",
       "Surname            0\n",
       "CreditScore        0\n",
       "Geography          0\n",
       "Age                0\n",
       "Tenure             0\n",
       "Balance            0\n",
       "NumOfProducts      0\n",
       "HasCrCard          0\n",
       "IsActiveMember     0\n",
       "EstimatedSalary    0\n",
       "Exited             0\n",
       "Gender_Female      0\n",
       "Gender_Male        0\n",
       "dtype: int64"
      ]
     },
     "execution_count": 6,
     "metadata": {},
     "output_type": "execute_result"
    }
   ],
   "source": [
    "df.isnull().sum()"
   ]
  },
  {
   "cell_type": "code",
   "execution_count": 7,
   "id": "4b077c65",
   "metadata": {
    "execution": {
     "iopub.execute_input": "2024-01-12T23:58:17.419884Z",
     "iopub.status.busy": "2024-01-12T23:58:17.419454Z",
     "iopub.status.idle": "2024-01-12T23:58:17.612837Z",
     "shell.execute_reply": "2024-01-12T23:58:17.611947Z"
    },
    "papermill": {
     "duration": 0.200642,
     "end_time": "2024-01-12T23:58:17.614518",
     "exception": false,
     "start_time": "2024-01-12T23:58:17.413876",
     "status": "completed"
    },
    "tags": []
   },
   "outputs": [
    {
     "data": {
      "text/plain": [
       "(array([8.9675e+04, 1.7800e+02, 2.5180e+03, 1.1880e+04, 2.7820e+04,\n",
       "        2.4228e+04, 7.5040e+03, 1.1110e+03, 1.0900e+02, 1.1000e+01]),\n",
       " array([     0.   ,  25089.809,  50179.618,  75269.427, 100359.236,\n",
       "        125449.045, 150538.854, 175628.663, 200718.472, 225808.281,\n",
       "        250898.09 ]),\n",
       " <BarContainer object of 10 artists>)"
      ]
     },
     "execution_count": 7,
     "metadata": {},
     "output_type": "execute_result"
    },
    {
     "data": {
      "image/png": "[encoded data removed]",
      "text/plain": [
       "<Figure size 640x480 with 1 Axes>"
      ]
     },
     "metadata": {},
     "output_type": "display_data"
    }
   ],
   "source": [
    "import matplotlib.pyplot as plt\n",
    "\n",
    "plt.hist(df['Balance'], bins= 10)"
   ]
  },
  {
   "cell_type": "code",
   "execution_count": 8,
   "id": "2cb08b95",
   "metadata": {
    "execution": {
     "iopub.execute_input": "2024-01-12T23:58:17.628049Z",
     "iopub.status.busy": "2024-01-12T23:58:17.627323Z",
     "iopub.status.idle": "2024-01-12T23:58:17.843925Z",
     "shell.execute_reply": "2024-01-12T23:58:17.843100Z"
    },
    "papermill": {
     "duration": 0.224805,
     "end_time": "2024-01-12T23:58:17.845903",
     "exception": false,
     "start_time": "2024-01-12T23:58:17.621098",
     "status": "completed"
    },
    "tags": []
   },
   "outputs": [
    {
     "data": {
      "text/plain": [
       "Text(0.5, 1.0, 'Histogram')"
      ]
     },
     "execution_count": 8,
     "metadata": {},
     "output_type": "execute_result"
    },
    {
     "data": {
      "image/png": "[encoded data removed]",
      "text/plain": [
       "<Figure size 640x480 with 1 Axes>"
      ]
     },
     "metadata": {},
     "output_type": "display_data"
    }
   ],
   "source": [
    "plt.hist(df['Balance'], bins=20, color='lightblue', edgecolor='black')\n",
    "plt.xlabel('Balance Values')\n",
    "plt.ylabel('Frequency')\n",
    "plt.title('Histogram')"
   ]
  },
  {
   "cell_type": "code",
   "execution_count": 9,
   "id": "4cc05858",
   "metadata": {
    "execution": {
     "iopub.execute_input": "2024-01-12T23:58:17.858172Z",
     "iopub.status.busy": "2024-01-12T23:58:17.857895Z",
     "iopub.status.idle": "2024-01-12T23:58:17.871222Z",
     "shell.execute_reply": "2024-01-12T23:58:17.870547Z"
    },
    "papermill": {
     "duration": 0.021052,
     "end_time": "2024-01-12T23:58:17.872728",
     "exception": false,
     "start_time": "2024-01-12T23:58:17.851676",
     "status": "completed"
    },
    "tags": []
   },
   "outputs": [
    {
     "data": {
      "text/plain": [
       "Balance\n",
       "0.00         89648\n",
       "124577.33       88\n",
       "127864.40       64\n",
       "122314.50       63\n",
       "129855.32       59\n",
       "             ...  \n",
       "125824.21        1\n",
       "158741.56        1\n",
       "126815.52        1\n",
       "61172.57         1\n",
       "110993.29        1\n",
       "Name: count, Length: 30075, dtype: int64"
      ]
     },
     "execution_count": 9,
     "metadata": {},
     "output_type": "execute_result"
    }
   ],
   "source": [
    "df['Balance'].value_counts()\n",
    "\n",
    " \n",
    " "
   ]
  },
  {
   "cell_type": "code",
   "execution_count": 10,
   "id": "66afcb55",
   "metadata": {
    "execution": {
     "iopub.execute_input": "2024-01-12T23:58:17.885201Z",
     "iopub.status.busy": "2024-01-12T23:58:17.884531Z",
     "iopub.status.idle": "2024-01-12T23:58:18.091298Z",
     "shell.execute_reply": "2024-01-12T23:58:18.090532Z"
    },
    "papermill": {
     "duration": 0.214941,
     "end_time": "2024-01-12T23:58:18.093243",
     "exception": false,
     "start_time": "2024-01-12T23:58:17.878302",
     "status": "completed"
    },
    "tags": []
   },
   "outputs": [
    {
     "data": {
      "text/plain": [
       "Text(0.5, 1.0, 'Histogram')"
      ]
     },
     "execution_count": 10,
     "metadata": {},
     "output_type": "execute_result"
    },
    {
     "data": {
      "image/png": "[encoded data removed]",
      "text/plain": [
       "<Figure size 640x480 with 1 Axes>"
      ]
     },
     "metadata": {},
     "output_type": "display_data"
    }
   ],
   "source": [
    "## lot of people have a balance of 0, 89648 to be precise\n",
    "plt.hist(df['Exited'], bins=2, color='lightblue', edgecolor='black')\n",
    "plt.xlabel('EXIT Values')\n",
    "plt.ylabel('Frequency')\n",
    "plt.title('Histogram')"
   ]
  },
  {
   "cell_type": "code",
   "execution_count": 11,
   "id": "bbc450e4",
   "metadata": {
    "execution": {
     "iopub.execute_input": "2024-01-12T23:58:18.106161Z",
     "iopub.status.busy": "2024-01-12T23:58:18.105929Z",
     "iopub.status.idle": "2024-01-12T23:58:18.290870Z",
     "shell.execute_reply": "2024-01-12T23:58:18.290104Z"
    },
    "papermill": {
     "duration": 0.193815,
     "end_time": "2024-01-12T23:58:18.293091",
     "exception": false,
     "start_time": "2024-01-12T23:58:18.099276",
     "status": "completed"
    },
    "tags": []
   },
   "outputs": [
    {
     "data": {
      "text/plain": [
       "(array([   56.,   871.,  3805., 10733., 27375., 32446., 39840., 31385.,\n",
       "        11890.,  6633.]),\n",
       " array([350., 400., 450., 500., 550., 600., 650., 700., 750., 800., 850.]),\n",
       " <BarContainer object of 10 artists>)"
      ]
     },
     "execution_count": 11,
     "metadata": {},
     "output_type": "execute_result"
    },
    {
     "data": {
      "image/png": "[encoded data removed]",
      "text/plain": [
       "<Figure size 640x480 with 1 Axes>"
      ]
     },
     "metadata": {},
     "output_type": "display_data"
    }
   ],
   "source": [
    "plt.hist(df['CreditScore'],bins =10, color='red')\n"
   ]
  },
  {
   "cell_type": "code",
   "execution_count": 12,
   "id": "452de16f",
   "metadata": {
    "execution": {
     "iopub.execute_input": "2024-01-12T23:58:18.307116Z",
     "iopub.status.busy": "2024-01-12T23:58:18.306860Z",
     "iopub.status.idle": "2024-01-12T23:58:18.335179Z",
     "shell.execute_reply": "2024-01-12T23:58:18.334520Z"
    },
    "papermill": {
     "duration": 0.037792,
     "end_time": "2024-01-12T23:58:18.337576",
     "exception": false,
     "start_time": "2024-01-12T23:58:18.299784",
     "status": "completed"
    },
    "tags": []
   },
   "outputs": [],
   "source": [
    "sample= pd.read_csv(\"/kaggle/input/playground-series-s4e1/sample_submission.csv\")"
   ]
  },
  {
   "cell_type": "code",
   "execution_count": 13,
   "id": "3716f564",
   "metadata": {
    "execution": {
     "iopub.execute_input": "2024-01-12T23:58:18.352634Z",
     "iopub.status.busy": "2024-01-12T23:58:18.352049Z",
     "iopub.status.idle": "2024-01-12T23:58:19.533596Z",
     "shell.execute_reply": "2024-01-12T23:58:19.532881Z"
    },
    "papermill": {
     "duration": 1.190495,
     "end_time": "2024-01-12T23:58:19.535585",
     "exception": false,
     "start_time": "2024-01-12T23:58:18.345090",
     "status": "completed"
    },
    "tags": []
   },
   "outputs": [],
   "source": [
    "from sklearn.ensemble import RandomForestClassifier\n",
    "features = ['CreditScore', 'Age', 'Tenure', 'Balance', 'NumOfProducts', 'EstimatedSalary', 'Geography','Gender_Female', 'Gender_Male', 'HasCrCard', 'IsActiveMember']"
   ]
  },
  {
   "cell_type": "code",
   "execution_count": 14,
   "id": "428db69a",
   "metadata": {
    "execution": {
     "iopub.execute_input": "2024-01-12T23:58:19.549301Z",
     "iopub.status.busy": "2024-01-12T23:58:19.549027Z",
     "iopub.status.idle": "2024-01-12T23:58:45.619393Z",
     "shell.execute_reply": "2024-01-12T23:58:45.618796Z"
    },
    "papermill": {
     "duration": 26.078913,
     "end_time": "2024-01-12T23:58:45.620965",
     "exception": false,
     "start_time": "2024-01-12T23:58:19.542052",
     "status": "completed"
    },
    "tags": []
   },
   "outputs": [
    {
     "data": {
      "text/html": [
       "<style>#sk-container-id-1 {color: black;background-color: white;}#sk-container-id-1 pre{padding: 0;}#sk-container-id-1 div.sk-toggleable {background-color: white;}#sk-container-id-1 label.sk-toggleable__label {cursor: pointer;display: block;width: 100%;margin-bottom: 0;padding: 0.3em;box-sizing: border-box;text-align: center;}#sk-container-id-1 label.sk-toggleable__label-arrow:before {content: \"▸\";float: left;margin-right: 0.25em;color: #696969;}#sk-container-id-1 label.sk-toggleable__label-arrow:hover:before {color: black;}#sk-container-id-1 div.sk-estimator:hover label.sk-toggleable__label-arrow:before {color: black;}#sk-container-id-1 div.sk-toggleable__content {max-height: 0;max-width: 0;overflow: hidden;text-align: left;background-color: #f0f8ff;}#sk-container-id-1 div.sk-toggleable__content pre {margin: 0.2em;color: black;border-radius: 0.25em;background-color: #f0f8ff;}#sk-container-id-1 input.sk-toggleable__control:checked~div.sk-toggleable__content {max-height: 200px;max-width: 100%;overflow: auto;}#sk-container-id-1 input.sk-toggleable__control:checked~label.sk-toggleable__label-arrow:before {content: \"▾\";}#sk-container-id-1 div.sk-estimator input.sk-toggleable__control:checked~label.sk-toggleable__label {background-color: #d4ebff;}#sk-container-id-1 div.sk-label input.sk-toggleable__control:checked~label.sk-toggleable__label {background-color: #d4ebff;}#sk-container-id-1 input.sk-hidden--visually {border: 0;clip: rect(1px 1px 1px 1px);clip: rect(1px, 1px, 1px, 1px);height: 1px;margin: -1px;overflow: hidden;padding: 0;position: absolute;width: 1px;}#sk-container-id-1 div.sk-estimator {font-family: monospace;background-color: #f0f8ff;border: 1px dotted black;border-radius: 0.25em;box-sizing: border-box;margin-bottom: 0.5em;}#sk-container-id-1 div.sk-estimator:hover {background-color: #d4ebff;}#sk-container-id-1 div.sk-parallel-item::after {content: \"\";width: 100%;border-bottom: 1px solid gray;flex-grow: 1;}#sk-container-id-1 div.sk-label:hover label.sk-toggleable__label {background-color: #d4ebff;}#sk-container-id-1 div.sk-serial::before {content: \"\";position: absolute;border-left: 1px solid gray;box-sizing: border-box;top: 0;bottom: 0;left: 50%;z-index: 0;}#sk-container-id-1 div.sk-serial {display: flex;flex-direction: column;align-items: center;background-color: white;padding-right: 0.2em;padding-left: 0.2em;position: relative;}#sk-container-id-1 div.sk-item {position: relative;z-index: 1;}#sk-container-id-1 div.sk-parallel {display: flex;align-items: stretch;justify-content: center;background-color: white;position: relative;}#sk-container-id-1 div.sk-item::before, #sk-container-id-1 div.sk-parallel-item::before {content: \"\";position: absolute;border-left: 1px solid gray;box-sizing: border-box;top: 0;bottom: 0;left: 50%;z-index: -1;}#sk-container-id-1 div.sk-parallel-item {display: flex;flex-direction: column;z-index: 1;position: relative;background-color: white;}#sk-container-id-1 div.sk-parallel-item:first-child::after {align-self: flex-end;width: 50%;}#sk-container-id-1 div.sk-parallel-item:last-child::after {align-self: flex-start;width: 50%;}#sk-container-id-1 div.sk-parallel-item:only-child::after {width: 0;}#sk-container-id-1 div.sk-dashed-wrapped {border: 1px dashed gray;margin: 0 0.4em 0.5em 0.4em;box-sizing: border-box;padding-bottom: 0.4em;background-color: white;}#sk-container-id-1 div.sk-label label {font-family: monospace;font-weight: bold;display: inline-block;line-height: 1.2em;}#sk-container-id-1 div.sk-label-container {text-align: center;}#sk-container-id-1 div.sk-container {/* jupyter's `normalize.less` sets `[hidden] { display: none; }` but bootstrap.min.css set `[hidden] { display: none !important; }` so we also need the `!important` here to be able to override the default hidden behavior on the sphinx rendered scikit-learn.org. See: https://github.com/scikit-learn/scikit-learn/issues/21755 */display: inline-block !important;position: relative;}#sk-container-id-1 div.sk-text-repr-fallback {display: none;}</style><div id=\"sk-container-id-1\" class=\"sk-top-container\"><div class=\"sk-text-repr-fallback\"><pre>RandomForestClassifier()</pre><b>In a Jupyter environment, please rerun this cell to show the HTML representation or trust the notebook. <br />On GitHub, the HTML representation is unable to render, please try loading this page with nbviewer.org.</b></div><div class=\"sk-container\" hidden><div class=\"sk-item\"><div class=\"sk-estimator sk-toggleable\"><input class=\"sk-toggleable__control sk-hidden--visually\" id=\"sk-estimator-id-1\" type=\"checkbox\" checked><label for=\"sk-estimator-id-1\" class=\"sk-toggleable__label sk-toggleable__label-arrow\">RandomForestClassifier</label><div class=\"sk-toggleable__content\"><pre>RandomForestClassifier()</pre></div></div></div></div></div>"
      ],
      "text/plain": [
       "RandomForestClassifier()"
      ]
     },
     "execution_count": 14,
     "metadata": {},
     "output_type": "execute_result"
    }
   ],
   "source": [
    "X =  pd.get_dummies(df[features], dtype=int)\n",
    "y = df['Exited']\n",
    " \n",
    "rfc = RandomForestClassifier()\n",
    "\n",
    "# Train the model on the training set\n",
    "rfc.fit(X, y )"
   ]
  },
  {
   "cell_type": "code",
   "execution_count": 15,
   "id": "6825efc6",
   "metadata": {
    "execution": {
     "iopub.execute_input": "2024-01-12T23:58:45.635609Z",
     "iopub.status.busy": "2024-01-12T23:58:45.635172Z",
     "iopub.status.idle": "2024-01-12T23:58:45.828356Z",
     "shell.execute_reply": "2024-01-12T23:58:45.827545Z"
    },
    "papermill": {
     "duration": 0.202189,
     "end_time": "2024-01-12T23:58:45.830211",
     "exception": false,
     "start_time": "2024-01-12T23:58:45.628022",
     "status": "completed"
    },
    "tags": []
   },
   "outputs": [],
   "source": [
    "test = pd.read_csv(\"/kaggle/input/playground-series-s4e1/test.csv\")\n",
    "test= pd.get_dummies(test,columns=[\"Gender\"])"
   ]
  },
  {
   "cell_type": "code",
   "execution_count": 16,
   "id": "a042d0d7",
   "metadata": {
    "execution": {
     "iopub.execute_input": "2024-01-12T23:58:45.844281Z",
     "iopub.status.busy": "2024-01-12T23:58:45.844024Z",
     "iopub.status.idle": "2024-01-12T23:58:48.508688Z",
     "shell.execute_reply": "2024-01-12T23:58:48.507890Z"
    },
    "papermill": {
     "duration": 2.673823,
     "end_time": "2024-01-12T23:58:48.510752",
     "exception": false,
     "start_time": "2024-01-12T23:58:45.836929",
     "status": "completed"
    },
    "tags": []
   },
   "outputs": [],
   "source": [
    "x_test = pd.get_dummies(test[features], dtype=int)\n",
    "# y = test['Exited']/\n",
    "\n",
    "predictions = rfc.predict(x_test)"
   ]
  },
  {
   "cell_type": "code",
   "execution_count": 17,
   "id": "432d52df",
   "metadata": {
    "execution": {
     "iopub.execute_input": "2024-01-12T23:58:48.525209Z",
     "iopub.status.busy": "2024-01-12T23:58:48.524907Z",
     "iopub.status.idle": "2024-01-12T23:58:48.630464Z",
     "shell.execute_reply": "2024-01-12T23:58:48.629230Z"
    },
    "papermill": {
     "duration": 0.11462,
     "end_time": "2024-01-12T23:58:48.632255",
     "exception": false,
     "start_time": "2024-01-12T23:58:48.517635",
     "status": "completed"
    },
    "tags": []
   },
   "outputs": [
    {
     "name": "stdout",
     "output_type": "stream",
     "text": [
      "Your submission was successfully saved!\n"
     ]
    }
   ],
   "source": [
    "output = pd.DataFrame({'id': test.id, 'Survived': predictions})\n",
    "output.to_csv('submission.csv', index=False)\n",
    "print(\"Your submission was successfully saved!\")"
   ]
  },
  {
   "cell_type": "code",
   "execution_count": 18,
   "id": "aad0178c",
   "metadata": {
    "execution": {
     "iopub.execute_input": "2024-01-12T23:58:48.646650Z",
     "iopub.status.busy": "2024-01-12T23:58:48.646359Z",
     "iopub.status.idle": "2024-01-12T23:58:48.665278Z",
     "shell.execute_reply": "2024-01-12T23:58:48.664434Z"
    },
    "papermill": {
     "duration": 0.028057,
     "end_time": "2024-01-12T23:58:48.667060",
     "exception": false,
     "start_time": "2024-01-12T23:58:48.639003",
     "status": "completed"
    },
    "tags": []
   },
   "outputs": [],
   "source": [
    "sample = pd.read_csv(\"/kaggle/input/playground-series-s4e1/sample_submission.csv\")"
   ]
  },
  {
   "cell_type": "code",
   "execution_count": 19,
   "id": "ee48fe68",
   "metadata": {
    "execution": {
     "iopub.execute_input": "2024-01-12T23:58:48.681272Z",
     "iopub.status.busy": "2024-01-12T23:58:48.681041Z",
     "iopub.status.idle": "2024-01-12T23:58:48.688094Z",
     "shell.execute_reply": "2024-01-12T23:58:48.687305Z"
    },
    "papermill": {
     "duration": 0.016029,
     "end_time": "2024-01-12T23:58:48.689799",
     "exception": false,
     "start_time": "2024-01-12T23:58:48.673770",
     "status": "completed"
    },
    "tags": []
   },
   "outputs": [
    {
     "data": {
      "text/html": [
       "<div>\n",
       "<style scoped>\n",
       "    .dataframe tbody tr th:only-of-type {\n",
       "        vertical-align: middle;\n",
       "    }\n",
       "\n",
       "    .dataframe tbody tr th {\n",
       "        vertical-align: top;\n",
       "    }\n",
       "\n",
       "    .dataframe thead th {\n",
       "        text-align: right;\n",
       "    }\n",
       "</style>\n",
       "<table border=\"1\" class=\"dataframe\">\n",
       "  <thead>\n",
       "    <tr style=\"text-align: right;\">\n",
       "      <th></th>\n",
       "      <th>id</th>\n",
       "      <th>Survived</th>\n",
       "    </tr>\n",
       "  </thead>\n",
       "  <tbody>\n",
       "    <tr>\n",
       "      <th>0</th>\n",
       "      <td>165034</td>\n",
       "      <td>0</td>\n",
       "    </tr>\n",
       "    <tr>\n",
       "      <th>1</th>\n",
       "      <td>165035</td>\n",
       "      <td>1</td>\n",
       "    </tr>\n",
       "    <tr>\n",
       "      <th>2</th>\n",
       "      <td>165036</td>\n",
       "      <td>0</td>\n",
       "    </tr>\n",
       "    <tr>\n",
       "      <th>3</th>\n",
       "      <td>165037</td>\n",
       "      <td>0</td>\n",
       "    </tr>\n",
       "    <tr>\n",
       "      <th>4</th>\n",
       "      <td>165038</td>\n",
       "      <td>0</td>\n",
       "    </tr>\n",
       "  </tbody>\n",
       "</table>\n",
       "</div>"
      ],
      "text/plain": [
       "       id  Survived\n",
       "0  165034         0\n",
       "1  165035         1\n",
       "2  165036         0\n",
       "3  165037         0\n",
       "4  165038         0"
      ]
     },
     "execution_count": 19,
     "metadata": {},
     "output_type": "execute_result"
    }
   ],
   "source": [
    "output.head()"
   ]
  },
  {
   "cell_type": "code",
   "execution_count": 20,
   "id": "e804d499",
   "metadata": {
    "execution": {
     "iopub.execute_input": "2024-01-12T23:58:48.704545Z",
     "iopub.status.busy": "2024-01-12T23:58:48.704233Z",
     "iopub.status.idle": "2024-01-12T23:58:48.709734Z",
     "shell.execute_reply": "2024-01-12T23:58:48.708868Z"
    },
    "papermill": {
     "duration": 0.015375,
     "end_time": "2024-01-12T23:58:48.711863",
     "exception": false,
     "start_time": "2024-01-12T23:58:48.696488",
     "status": "completed"
    },
    "tags": []
   },
   "outputs": [
    {
     "data": {
      "text/plain": [
       "Index(['id', 'CustomerId', 'Surname', 'CreditScore', 'Geography', 'Age',\n",
       "       'Tenure', 'Balance', 'NumOfProducts', 'HasCrCard', 'IsActiveMember',\n",
       "       'EstimatedSalary', 'Exited', 'Gender_Female', 'Gender_Male'],\n",
       "      dtype='object')"
      ]
     },
     "execution_count": 20,
     "metadata": {},
     "output_type": "execute_result"
    }
   ],
   "source": [
    "df.columns"
   ]
  },
  {
   "cell_type": "code",
   "execution_count": null,
   "id": "cc3bc433",
   "metadata": {
    "papermill": {
     "duration": 0.006443,
     "end_time": "2024-01-12T23:58:48.724999",
     "exception": false,
     "start_time": "2024-01-12T23:58:48.718556",
     "status": "completed"
    },
    "tags": []
   },
   "outputs": [],
   "source": []
  }
 ],
 "metadata": {
  "kaggle": {
   "accelerator": "none",
   "dataSources": [
    {
     "databundleVersionId": 7405009,
     "sourceId": 65711,
     "sourceType": "competition"
    }
   ],
   "dockerImageVersionId": 30635,
   "isGpuEnabled": false,
   "isInternetEnabled": true,
   "language": "python",
   "sourceType": "notebook"
  },
  "kernelspec": {
   "display_name": "Python 3",
   "language": "python",
   "name": "python3"
  },
  "language_info": {
   "codemirror_mode": {
    "name": "ipython",
    "version": 3
   },
   "file_extension": ".py",
   "mimetype": "text/x-python",
   "name": "python",
   "nbconvert_exporter": "python",
   "pygments_lexer": "ipython3",
   "version": "3.10.12"
  },
  "papermill": {
   "default_parameters": {},
   "duration": 34.798417,
   "end_time": "2024-01-12T23:58:49.150189",
   "environment_variables": {},
   "exception": null,
   "input_path": "__notebook__.ipynb",
   "output_path": "__notebook__.ipynb",
   "parameters": {},
   "start_time": "2024-01-12T23:58:14.351772",
   "version": "2.4.0"
  }
 },
 "nbformat": 4,
 "nbformat_minor": 5
}
