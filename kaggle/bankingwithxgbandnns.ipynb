{
 "cells": [
  {
   "cell_type": "code",
   "execution_count": 1,
   "id": "5bc8e736",
   "metadata": {
    "_cell_guid": "b1076dfc-b9ad-4769-8c92-a6c4dae69d19",
    "_uuid": "8f2839f25d086af736a60e9eeb907d3b93b6e0e5",
    "execution": {
     "iopub.execute_input": "2024-01-13T00:29:20.255999Z",
     "iopub.status.busy": "2024-01-13T00:29:20.255686Z",
     "iopub.status.idle": "2024-01-13T00:29:21.078558Z",
     "shell.execute_reply": "2024-01-13T00:29:21.077313Z"
    },
    "papermill": {
     "duration": 0.829461,
     "end_time": "2024-01-13T00:29:21.080596",
     "exception": false,
     "start_time": "2024-01-13T00:29:20.251135",
     "status": "completed"
    },
    "tags": []
   },
   "outputs": [
    {
     "name": "stdout",
     "output_type": "stream",
     "text": [
      "/kaggle/input/playground-series-s4e1/sample_submission.csv\n",
      "/kaggle/input/playground-series-s4e1/train.csv\n",
      "/kaggle/input/playground-series-s4e1/test.csv\n"
     ]
    }
   ],
   "source": [
    "# This Python 3 environment comes with many helpful analytics libraries installed\n",
    "# It is defined by the kaggle/python Docker image: https://github.com/kaggle/docker-python\n",
    "# For example, here's several helpful packages to load\n",
    "\n",
    "import numpy as np # linear algebra\n",
    "import pandas as pd # data processing, CSV file I/O (e.g. pd.read_csv)\n",
    "\n",
    "# Input data files are available in the read-only \"../input/\" directory\n",
    "# For example, running this (by clicking run or pressing Shift+Enter) will list all files under the input directory\n",
    "\n",
    "import os\n",
    "for dirname, _, filenames in os.walk('/kaggle/input'):\n",
    "    for filename in filenames:\n",
    "        print(os.path.join(dirname, filename))\n",
    "\n",
    "# You can write up to 20GB to the current directory (/kaggle/working/) that gets preserved as output when you create a version using \"Save & Run All\" \n",
    "# You can also write temporary files to /kaggle/temp/, but they won't be saved outside of the current session"
   ]
  },
  {
   "cell_type": "code",
   "execution_count": 2,
   "id": "11ddffc4",
   "metadata": {
    "execution": {
     "iopub.execute_input": "2024-01-13T00:29:21.088661Z",
     "iopub.status.busy": "2024-01-13T00:29:21.087974Z",
     "iopub.status.idle": "2024-01-13T00:29:22.611266Z",
     "shell.execute_reply": "2024-01-13T00:29:22.610392Z"
    },
    "papermill": {
     "duration": 1.529512,
     "end_time": "2024-01-13T00:29:22.613506",
     "exception": false,
     "start_time": "2024-01-13T00:29:21.083994",
     "status": "completed"
    },
    "tags": []
   },
   "outputs": [
    {
     "name": "stderr",
     "output_type": "stream",
     "text": [
      "/opt/conda/lib/python3.10/site-packages/scipy/__init__.py:146: UserWarning: A NumPy version >=1.16.5 and <1.23.0 is required for this version of SciPy (detected version 1.24.3\n",
      "  warnings.warn(f\"A NumPy version >={np_minversion} and <{np_maxversion}\"\n"
     ]
    },
    {
     "data": {
      "text/html": [
       "<div>\n",
       "<style scoped>\n",
       "    .dataframe tbody tr th:only-of-type {\n",
       "        vertical-align: middle;\n",
       "    }\n",
       "\n",
       "    .dataframe tbody tr th {\n",
       "        vertical-align: top;\n",
       "    }\n",
       "\n",
       "    .dataframe thead th {\n",
       "        text-align: right;\n",
       "    }\n",
       "</style>\n",
       "<table border=\"1\" class=\"dataframe\">\n",
       "  <thead>\n",
       "    <tr style=\"text-align: right;\">\n",
       "      <th></th>\n",
       "      <th>id</th>\n",
       "      <th>CustomerId</th>\n",
       "      <th>Surname</th>\n",
       "      <th>CreditScore</th>\n",
       "      <th>Geography</th>\n",
       "      <th>Gender</th>\n",
       "      <th>Age</th>\n",
       "      <th>Tenure</th>\n",
       "      <th>Balance</th>\n",
       "      <th>NumOfProducts</th>\n",
       "      <th>HasCrCard</th>\n",
       "      <th>IsActiveMember</th>\n",
       "      <th>EstimatedSalary</th>\n",
       "      <th>Exited</th>\n",
       "    </tr>\n",
       "  </thead>\n",
       "  <tbody>\n",
       "    <tr>\n",
       "      <th>0</th>\n",
       "      <td>0</td>\n",
       "      <td>15674932</td>\n",
       "      <td>Okwudilichukwu</td>\n",
       "      <td>668</td>\n",
       "      <td>France</td>\n",
       "      <td>Male</td>\n",
       "      <td>33.0</td>\n",
       "      <td>3</td>\n",
       "      <td>0.00</td>\n",
       "      <td>2</td>\n",
       "      <td>1.0</td>\n",
       "      <td>0.0</td>\n",
       "      <td>181449.97</td>\n",
       "      <td>0</td>\n",
       "    </tr>\n",
       "    <tr>\n",
       "      <th>1</th>\n",
       "      <td>1</td>\n",
       "      <td>15749177</td>\n",
       "      <td>Okwudiliolisa</td>\n",
       "      <td>627</td>\n",
       "      <td>France</td>\n",
       "      <td>Male</td>\n",
       "      <td>33.0</td>\n",
       "      <td>1</td>\n",
       "      <td>0.00</td>\n",
       "      <td>2</td>\n",
       "      <td>1.0</td>\n",
       "      <td>1.0</td>\n",
       "      <td>49503.50</td>\n",
       "      <td>0</td>\n",
       "    </tr>\n",
       "    <tr>\n",
       "      <th>2</th>\n",
       "      <td>2</td>\n",
       "      <td>15694510</td>\n",
       "      <td>Hsueh</td>\n",
       "      <td>678</td>\n",
       "      <td>France</td>\n",
       "      <td>Male</td>\n",
       "      <td>40.0</td>\n",
       "      <td>10</td>\n",
       "      <td>0.00</td>\n",
       "      <td>2</td>\n",
       "      <td>1.0</td>\n",
       "      <td>0.0</td>\n",
       "      <td>184866.69</td>\n",
       "      <td>0</td>\n",
       "    </tr>\n",
       "    <tr>\n",
       "      <th>3</th>\n",
       "      <td>3</td>\n",
       "      <td>15741417</td>\n",
       "      <td>Kao</td>\n",
       "      <td>581</td>\n",
       "      <td>France</td>\n",
       "      <td>Male</td>\n",
       "      <td>34.0</td>\n",
       "      <td>2</td>\n",
       "      <td>148882.54</td>\n",
       "      <td>1</td>\n",
       "      <td>1.0</td>\n",
       "      <td>1.0</td>\n",
       "      <td>84560.88</td>\n",
       "      <td>0</td>\n",
       "    </tr>\n",
       "    <tr>\n",
       "      <th>4</th>\n",
       "      <td>4</td>\n",
       "      <td>15766172</td>\n",
       "      <td>Chiemenam</td>\n",
       "      <td>716</td>\n",
       "      <td>Spain</td>\n",
       "      <td>Male</td>\n",
       "      <td>33.0</td>\n",
       "      <td>5</td>\n",
       "      <td>0.00</td>\n",
       "      <td>2</td>\n",
       "      <td>1.0</td>\n",
       "      <td>1.0</td>\n",
       "      <td>15068.83</td>\n",
       "      <td>0</td>\n",
       "    </tr>\n",
       "  </tbody>\n",
       "</table>\n",
       "</div>"
      ],
      "text/plain": [
       "   id  CustomerId         Surname  CreditScore Geography Gender   Age  Tenure  \\\n",
       "0   0    15674932  Okwudilichukwu          668    France   Male  33.0       3   \n",
       "1   1    15749177   Okwudiliolisa          627    France   Male  33.0       1   \n",
       "2   2    15694510           Hsueh          678    France   Male  40.0      10   \n",
       "3   3    15741417             Kao          581    France   Male  34.0       2   \n",
       "4   4    15766172       Chiemenam          716     Spain   Male  33.0       5   \n",
       "\n",
       "     Balance  NumOfProducts  HasCrCard  IsActiveMember  EstimatedSalary  \\\n",
       "0       0.00              2        1.0             0.0        181449.97   \n",
       "1       0.00              2        1.0             1.0         49503.50   \n",
       "2       0.00              2        1.0             0.0        184866.69   \n",
       "3  148882.54              1        1.0             1.0         84560.88   \n",
       "4       0.00              2        1.0             1.0         15068.83   \n",
       "\n",
       "   Exited  \n",
       "0       0  \n",
       "1       0  \n",
       "2       0  \n",
       "3       0  \n",
       "4       0  "
      ]
     },
     "execution_count": 2,
     "metadata": {},
     "output_type": "execute_result"
    }
   ],
   "source": [
    "from sklearn.model_selection import train_test_split\n",
    "from sklearn.preprocessing import StandardScaler\n",
    "\n",
    "data = pd.read_csv('/kaggle/input/playground-series-s4e1/train.csv')\n",
    "data.head()"
   ]
  },
  {
   "cell_type": "code",
   "execution_count": 3,
   "id": "40b58842",
   "metadata": {
    "execution": {
     "iopub.execute_input": "2024-01-13T00:29:22.622540Z",
     "iopub.status.busy": "2024-01-13T00:29:22.622214Z",
     "iopub.status.idle": "2024-01-13T00:29:22.734739Z",
     "shell.execute_reply": "2024-01-13T00:29:22.733924Z"
    },
    "papermill": {
     "duration": 0.119537,
     "end_time": "2024-01-13T00:29:22.736967",
     "exception": false,
     "start_time": "2024-01-13T00:29:22.617430",
     "status": "completed"
    },
    "tags": []
   },
   "outputs": [],
   "source": [
    "\n",
    "features = ['CreditScore', 'Age', 'Tenure', 'Balance', 'NumOfProducts', 'EstimatedSalary', 'Geography', 'Gender', 'HasCrCard', 'IsActiveMember']\n",
    "x_data = pd.get_dummies(data[features]).astype(np.float32)\n",
    "y_data = (data['Exited']).astype(np.float32)\n",
    "\n",
    "scaler = StandardScaler()\n",
    "x_data = scaler.fit_transform(x_data)\n",
    "\n",
    "x_train, x_, y_train, y_ = train_test_split(x_data, y_data, test_size=0.25)"
   ]
  },
  {
   "cell_type": "code",
   "execution_count": 4,
   "id": "8b540370",
   "metadata": {
    "execution": {
     "iopub.execute_input": "2024-01-13T00:29:22.745248Z",
     "iopub.status.busy": "2024-01-13T00:29:22.744952Z",
     "iopub.status.idle": "2024-01-13T00:30:33.484678Z",
     "shell.execute_reply": "2024-01-13T00:30:33.483675Z"
    },
    "papermill": {
     "duration": 70.746273,
     "end_time": "2024-01-13T00:30:33.486915",
     "exception": false,
     "start_time": "2024-01-13T00:29:22.740642",
     "status": "completed"
    },
    "tags": []
   },
   "outputs": [
    {
     "name": "stdout",
     "output_type": "stream",
     "text": [
      "Epoch 1/5\n",
      "3868/3868 [==============================] - 14s 3ms/step - loss: 0.3692\n",
      "Epoch 2/5\n",
      "3868/3868 [==============================] - 11s 3ms/step - loss: 0.3349\n",
      "Epoch 3/5\n",
      "3868/3868 [==============================] - 11s 3ms/step - loss: 0.3307\n",
      "Epoch 4/5\n",
      "3868/3868 [==============================] - 11s 3ms/step - loss: 0.3290\n",
      "Epoch 5/5\n",
      "3868/3868 [==============================] - 11s 3ms/step - loss: 0.3267\n"
     ]
    },
    {
     "data": {
      "text/plain": [
       "<keras.src.callbacks.History at 0x7e9e316121a0>"
      ]
     },
     "execution_count": 4,
     "metadata": {},
     "output_type": "execute_result"
    }
   ],
   "source": [
    "import tensorflow as tf\n",
    "from tensorflow.keras.models import Sequential\n",
    "from tensorflow.keras.layers import Dense,Dropout\n",
    "\n",
    "model_nn = Sequential(\n",
    "    [\n",
    "       \n",
    "        Dense(256, activation = 'relu'),\n",
    "         Dense(128, activation = 'relu'),\n",
    "        Dropout(0.25),\n",
    "        Dense(1, activation = 'sigmoid'),\n",
    "    ]\n",
    ")\n",
    "\n",
    "model_nn.compile(\n",
    "    loss = tf.keras.losses.BinaryCrossentropy(),\n",
    "    optimizer = tf.keras.optimizers.Adam(learning_rate=0.0001),\n",
    ")\n",
    "\n",
    "model_nn.fit(x_train, y_train, epochs=5)"
   ]
  },
  {
   "cell_type": "code",
   "execution_count": 5,
   "id": "c256faee",
   "metadata": {
    "execution": {
     "iopub.execute_input": "2024-01-13T00:30:33.707301Z",
     "iopub.status.busy": "2024-01-13T00:30:33.706934Z",
     "iopub.status.idle": "2024-01-13T00:30:34.060128Z",
     "shell.execute_reply": "2024-01-13T00:30:34.059093Z"
    },
    "papermill": {
     "duration": 0.488701,
     "end_time": "2024-01-13T00:30:34.062624",
     "exception": false,
     "start_time": "2024-01-13T00:30:33.573923",
     "status": "completed"
    },
    "tags": []
   },
   "outputs": [],
   "source": [
    "test_data = pd.read_csv(\"/kaggle/input/playground-series-s4e1/test.csv\")\n",
    "x_test = pd.get_dummies(test_data[features]).astype('float32')\n",
    "\n",
    "x_test = scaler.transform(x_test)"
   ]
  },
  {
   "cell_type": "code",
   "execution_count": 6,
   "id": "66a34986",
   "metadata": {
    "execution": {
     "iopub.execute_input": "2024-01-13T00:30:34.239238Z",
     "iopub.status.busy": "2024-01-13T00:30:34.238910Z",
     "iopub.status.idle": "2024-01-13T00:30:40.856121Z",
     "shell.execute_reply": "2024-01-13T00:30:40.855180Z"
    },
    "papermill": {
     "duration": 6.706994,
     "end_time": "2024-01-13T00:30:40.858488",
     "exception": false,
     "start_time": "2024-01-13T00:30:34.151494",
     "status": "completed"
    },
    "tags": []
   },
   "outputs": [
    {
     "name": "stdout",
     "output_type": "stream",
     "text": [
      "3439/3439 [==============================] - 5s 1ms/step\n"
     ]
    }
   ],
   "source": [
    "test_pred = model_nn.predict(x_test)"
   ]
  },
  {
   "cell_type": "code",
   "execution_count": 7,
   "id": "550b1db6",
   "metadata": {
    "execution": {
     "iopub.execute_input": "2024-01-13T00:30:41.046329Z",
     "iopub.status.busy": "2024-01-13T00:30:41.045556Z",
     "iopub.status.idle": "2024-01-13T00:30:41.335502Z",
     "shell.execute_reply": "2024-01-13T00:30:41.334440Z"
    },
    "papermill": {
     "duration": 0.38686,
     "end_time": "2024-01-13T00:30:41.337621",
     "exception": false,
     "start_time": "2024-01-13T00:30:40.950761",
     "status": "completed"
    },
    "tags": []
   },
   "outputs": [],
   "source": [
    "[test_pred] = test_pred.reshape(1, len(test_pred))\n",
    "test_pred = np.round(test_pred, 1)\n",
    "\n",
    "output = pd.DataFrame({'id': test_data.id, 'Exited': test_pred})\n",
    "output.to_csv('submission.csv', index=False)"
   ]
  },
  {
   "cell_type": "code",
   "execution_count": null,
   "id": "fe787b6c",
   "metadata": {
    "papermill": {
     "duration": 0.091239,
     "end_time": "2024-01-13T00:30:41.521679",
     "exception": false,
     "start_time": "2024-01-13T00:30:41.430440",
     "status": "completed"
    },
    "tags": []
   },
   "outputs": [],
   "source": []
  }
 ],
 "metadata": {
  "kaggle": {
   "accelerator": "nvidiaTeslaT4",
   "dataSources": [
    {
     "databundleVersionId": 7405009,
     "sourceId": 65711,
     "sourceType": "competition"
    }
   ],
   "dockerImageVersionId": 30636,
   "isGpuEnabled": true,
   "isInternetEnabled": true,
   "language": "python",
   "sourceType": "notebook"
  },
  "kernelspec": {
   "display_name": "Python 3",
   "language": "python",
   "name": "python3"
  },
  "language_info": {
   "codemirror_mode": {
    "name": "ipython",
    "version": 3
   },
   "file_extension": ".py",
   "mimetype": "text/x-python",
   "name": "python",
   "nbconvert_exporter": "python",
   "pygments_lexer": "ipython3",
   "version": "3.10.12"
  },
  "papermill": {
   "default_parameters": {},
   "duration": 87.766929,
   "end_time": "2024-01-13T00:30:44.337063",
   "environment_variables": {},
   "exception": null,
   "input_path": "__notebook__.ipynb",
   "output_path": "__notebook__.ipynb",
   "parameters": {},
   "start_time": "2024-01-13T00:29:16.570134",
   "version": "2.4.0"
  }
 },
 "nbformat": 4,
 "nbformat_minor": 5
}
